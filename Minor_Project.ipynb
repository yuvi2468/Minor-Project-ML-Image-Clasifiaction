{
  "nbformat": 4,
  "nbformat_minor": 0,
  "metadata": {
    "colab": {
      "name": "Minor Project.ipynb",
      "provenance": [],
      "authorship_tag": "ABX9TyNHgGaQU/ZhfHnBLAE7MGY7",
      "include_colab_link": true
    },
    "kernelspec": {
      "name": "python3",
      "display_name": "Python 3"
    },
    "language_info": {
      "name": "python"
    }
  },
  "cells": [
    {
      "cell_type": "markdown",
      "metadata": {
        "id": "view-in-github",
        "colab_type": "text"
      },
      "source": [
        "<a href=\"https://colab.research.google.com/github/yuvi2468/Minor-Project-ML-Image-Clasifiaction/blob/main/Minor_Project.ipynb\" target=\"_parent\"><img src=\"https://colab.research.google.com/assets/colab-badge.svg\" alt=\"Open In Colab\"/></a>"
      ]
    },
    {
      "cell_type": "code",
      "metadata": {
        "colab": {
          "base_uri": "https://localhost:8080/"
        },
        "id": "KfgWa9fXYRYJ",
        "outputId": "12b2884e-7465-44e1-cdce-a5c4b1d8f2e6"
      },
      "source": [
        "!pip install bing-image-downloader"
      ],
      "execution_count": null,
      "outputs": [
        {
          "output_type": "stream",
          "text": [
            "Requirement already satisfied: bing-image-downloader in /usr/local/lib/python3.7/dist-packages (1.0.4)\n"
          ],
          "name": "stdout"
        }
      ]
    },
    {
      "cell_type": "code",
      "metadata": {
        "colab": {
          "base_uri": "https://localhost:8080/"
        },
        "id": "4z-0BzW4Yo7W",
        "outputId": "c381d523-d0f1-418a-a99c-7bc8664f7e63"
      },
      "source": [
        "!mkdir images"
      ],
      "execution_count": null,
      "outputs": [
        {
          "output_type": "stream",
          "text": [
            "mkdir: cannot create directory ‘images’: File exists\n"
          ],
          "name": "stdout"
        }
      ]
    },
    {
      "cell_type": "code",
      "metadata": {
        "colab": {
          "base_uri": "https://localhost:8080/"
        },
        "id": "J5mVAkY7YzWO",
        "outputId": "ae365d7f-62ff-47ba-83a7-5247c492905a"
      },
      "source": [
        "from bing_image_downloader import downloader\n",
        "downloader.download(\"roses\",limit=30,output_dir=\"images\",adult_filter_off = True)"
      ],
      "execution_count": null,
      "outputs": [
        {
          "output_type": "stream",
          "text": [
            "\n",
            "\n",
            "[!!]Indexing page: 1\n",
            "\n",
            "[%] Indexed 11 Images on Page 1.\n",
            "\n",
            "===============================================\n",
            "\n",
            "[%] Downloading Image #1 from https://www.parfumflowercompany.com/wp-content/uploads/2015/10/Yves-Piaget-Premium-Scented-Garden-Rose-from-the-Meilland-Jardin-Parfum-collection-017.png\n",
            "[%] File Downloaded !\n",
            "\n",
            "[%] Downloading Image #2 from https://rmze.cc/wp-content/uploads/2019/10/13087-2.jpg\n",
            "[%] File Downloaded !\n",
            "\n",
            "[%] Downloading Image #3 from http://www.rocketfarms.com/images/flowers/rose-gallery/RF-Rose-Gallery-6.jpg\n",
            "[%] File Downloaded !\n",
            "\n",
            "[%] Downloading Image #4 from http://bestanimations.com/Holidays/Valentines/teddy/teddy-bear-holing-heart-greeting-gif-2.gif\n",
            "[Error]Invalid image, not saving http://bestanimations.com/Holidays/Valentines/teddy/teddy-bear-holing-heart-greeting-gif-2.gif\n",
            "\n",
            "[!] Issue getting: http://bestanimations.com/Holidays/Valentines/teddy/teddy-bear-holing-heart-greeting-gif-2.gif\n",
            "[!] Error:: No active exception to reraise\n",
            "[%] Downloading Image #4 from https://www.bing.com/th/id/OGC.0720b1530a20ef0cdb0becab52113b1a?pid=1.7&amp;rurl=http%3a%2f%2fbestanimations.com%2fHolidays%2fValentines%2fteddy%2fteddy-bear-holing-heart-greeting-gif-2.gif&amp;ehk=Ufl3CacGLbe3BiKY4EpcAkF%2bsXpxWKsW5C9zENh0wIg%3d\n",
            "[!] Issue getting: https://www.bing.com/th/id/OGC.0720b1530a20ef0cdb0becab52113b1a?pid=1.7&amp;rurl=http%3a%2f%2fbestanimations.com%2fHolidays%2fValentines%2fteddy%2fteddy-bear-holing-heart-greeting-gif-2.gif&amp;ehk=Ufl3CacGLbe3BiKY4EpcAkF%2bsXpxWKsW5C9zENh0wIg%3d\n",
            "[!] Error:: HTTP Error 404: Not Found\n",
            "[%] Downloading Image #4 from http://ohbestdayever.com/wp-content/uploads/2017/08/burgundy-wedding-bouquets.jpg\n",
            "[%] File Downloaded !\n",
            "\n",
            "[%] Downloading Image #5 from https://www.parfumflowercompany.com/wp-content/uploads/2015/11/Patience-015.jpg\n",
            "[%] File Downloaded !\n",
            "\n",
            "[%] Downloading Image #6 from https://wallpapershome.com/images/wallpapers/india-3840x2160-5k-4k-wallpaper-valley-of-flowers-meadows-roses-5310.jpg\n",
            "[%] File Downloaded !\n",
            "\n",
            "[%] Downloading Image #7 from https://i.weddingomania.com/2016/04/22-Teapot-Table-Centerpiece-Ideas-For-Your-Wedding-2.jpg\n",
            "[%] File Downloaded !\n",
            "\n",
            "[%] Downloading Image #8 from https://www.parfumflowercompany.com/wp-content/uploads/2015/10/Darcey-David-Austin-Wedding-Rose-001.png\n",
            "[%] File Downloaded !\n",
            "\n",
            "[%] Downloading Image #9 from https://www.parfumflowercompany.com/wp-content/uploads/2015/10/White-O-Hara-014.jpg\n",
            "[%] File Downloaded !\n",
            "\n",
            "\n",
            "\n",
            "[!!]Indexing page: 2\n",
            "\n",
            "[%] Indexed 11 Images on Page 2.\n",
            "\n",
            "===============================================\n",
            "\n",
            "[%] Downloading Image #10 from https://www.parfumflowercompany.com/wp-content/uploads/2015/10/Yves-Piaget-Premium-Scented-Garden-Rose-from-the-Meilland-Jardin-Parfum-collection-017.png\n",
            "[%] File Downloaded !\n",
            "\n",
            "[%] Downloading Image #11 from https://rmze.cc/wp-content/uploads/2019/10/13087-2.jpg\n",
            "[%] File Downloaded !\n",
            "\n",
            "[%] Downloading Image #12 from http://www.rocketfarms.com/images/flowers/rose-gallery/RF-Rose-Gallery-6.jpg\n",
            "[%] File Downloaded !\n",
            "\n",
            "[%] Downloading Image #13 from http://bestanimations.com/Holidays/Valentines/teddy/teddy-bear-holing-heart-greeting-gif-2.gif\n",
            "[Error]Invalid image, not saving http://bestanimations.com/Holidays/Valentines/teddy/teddy-bear-holing-heart-greeting-gif-2.gif\n",
            "\n",
            "[!] Issue getting: http://bestanimations.com/Holidays/Valentines/teddy/teddy-bear-holing-heart-greeting-gif-2.gif\n",
            "[!] Error:: No active exception to reraise\n",
            "[%] Downloading Image #13 from https://www.bing.com/th/id/OGC.0720b1530a20ef0cdb0becab52113b1a?pid=1.7&amp;rurl=http%3a%2f%2fbestanimations.com%2fHolidays%2fValentines%2fteddy%2fteddy-bear-holing-heart-greeting-gif-2.gif&amp;ehk=Ufl3CacGLbe3BiKY4EpcAkF%2bsXpxWKsW5C9zENh0wIg%3d\n",
            "[!] Issue getting: https://www.bing.com/th/id/OGC.0720b1530a20ef0cdb0becab52113b1a?pid=1.7&amp;rurl=http%3a%2f%2fbestanimations.com%2fHolidays%2fValentines%2fteddy%2fteddy-bear-holing-heart-greeting-gif-2.gif&amp;ehk=Ufl3CacGLbe3BiKY4EpcAkF%2bsXpxWKsW5C9zENh0wIg%3d\n",
            "[!] Error:: HTTP Error 404: Not Found\n",
            "[%] Downloading Image #13 from http://ohbestdayever.com/wp-content/uploads/2017/08/burgundy-wedding-bouquets.jpg\n",
            "[%] File Downloaded !\n",
            "\n",
            "[%] Downloading Image #14 from https://www.parfumflowercompany.com/wp-content/uploads/2015/11/Patience-015.jpg\n",
            "[%] File Downloaded !\n",
            "\n",
            "[%] Downloading Image #15 from https://wallpapershome.com/images/wallpapers/india-3840x2160-5k-4k-wallpaper-valley-of-flowers-meadows-roses-5310.jpg\n",
            "[%] File Downloaded !\n",
            "\n",
            "[%] Downloading Image #16 from https://i.weddingomania.com/2016/04/22-Teapot-Table-Centerpiece-Ideas-For-Your-Wedding-2.jpg\n",
            "[%] File Downloaded !\n",
            "\n",
            "[%] Downloading Image #17 from https://www.parfumflowercompany.com/wp-content/uploads/2015/10/Darcey-David-Austin-Wedding-Rose-001.png\n",
            "[%] File Downloaded !\n",
            "\n",
            "[%] Downloading Image #18 from https://www.parfumflowercompany.com/wp-content/uploads/2015/10/White-O-Hara-014.jpg\n",
            "[%] File Downloaded !\n",
            "\n",
            "\n",
            "\n",
            "[!!]Indexing page: 3\n",
            "\n",
            "[%] Indexed 9 Images on Page 3.\n",
            "\n",
            "===============================================\n",
            "\n",
            "[%] Downloading Image #19 from https://www.parfumflowercompany.com/wp-content/uploads/2016/02/Free-Spirit-Premium-scented-garden-rose-016.png\n",
            "[%] File Downloaded !\n",
            "\n",
            "[%] Downloading Image #20 from https://www.parfumflowercompany.com/wp-content/uploads/2015/10/Cream-Yves-Piaget-003.jpg\n",
            "[%] File Downloaded !\n",
            "\n",
            "[%] Downloading Image #21 from https://www.parfumflowercompany.com/wp-content/uploads/2016/02/Free-Spirit-Premium-scented-garden-rose-015.png\n",
            "[%] File Downloaded !\n",
            "\n",
            "[%] Downloading Image #22 from https://www.parfumflowercompany.com/wp-content/uploads/2015/10/Charity-David-Austin-Wedding-Rose-001.png\n",
            "[%] File Downloaded !\n",
            "\n",
            "[%] Downloading Image #23 from https://www.parfumflowercompany.com/wp-content/uploads/2015/10/Toulouse-Lautrec-Meilland-jardin-Parfum-Rose.-Premium-Scented-Orange-garden-rose-005.png\n",
            "[%] File Downloaded !\n",
            "\n",
            "[%] Downloading Image #24 from https://littlebinsforlittlehands.com/wp-content/uploads/2016/02/11-680x1020.jpg\n",
            "[%] File Downloaded !\n",
            "\n",
            "[%] Downloading Image #25 from http://www.rosesandrings.com/wp-content/uploads/2018/01/rustic-burgundy-and-greenery-wedding-sweetheart-table-decor.jpg\n",
            "[%] File Downloaded !\n",
            "\n",
            "[%] Downloading Image #26 from https://wallpapershome.com/images/wallpapers/flowers-2160x3840-5k-4k-wallpaper-8k-spring-art-4657.jpg\n",
            "[%] File Downloaded !\n",
            "\n",
            "[%] Downloading Image #27 from http://www.rosesandrings.com/wp-content/uploads/2018/01/Mr.-and-Mrs.-Sign-for-Wedding-Love-Seat.jpg\n",
            "[%] File Downloaded !\n",
            "\n",
            "\n",
            "\n",
            "[!!]Indexing page: 4\n",
            "\n",
            "[%] Indexed 9 Images on Page 4.\n",
            "\n",
            "===============================================\n",
            "\n",
            "[%] Downloading Image #28 from http://ohbestdayever.com/wp-content/uploads/2017/08/burgundy-wedding-bouquets.jpg\n",
            "[%] File Downloaded !\n",
            "\n",
            "[%] Downloading Image #29 from https://i.weddingomania.com/2016/04/22-Teapot-Table-Centerpiece-Ideas-For-Your-Wedding-2.jpg\n",
            "[%] File Downloaded !\n",
            "\n",
            "[%] Downloading Image #30 from https://www.parfumflowercompany.com/wp-content/uploads/2015/11/Patience-015.jpg\n",
            "[%] File Downloaded !\n",
            "\n",
            "\n",
            "\n",
            "[%] Done. Downloaded 30 images.\n",
            "\n",
            "===============================================\n",
            "\n"
          ],
          "name": "stdout"
        }
      ]
    },
    {
      "cell_type": "code",
      "metadata": {
        "colab": {
          "base_uri": "https://localhost:8080/"
        },
        "id": "3_GMIztsY16M",
        "outputId": "cf9e8d7a-39b7-4c36-f0fe-7d34b87c9734"
      },
      "source": [
        "downloader.download(\"tennis ball\",limit=30,output_dir=\"images\",adult_filter_off = True)"
      ],
      "execution_count": null,
      "outputs": [
        {
          "output_type": "stream",
          "text": [
            "\n",
            "\n",
            "[!!]Indexing page: 1\n",
            "\n",
            "[%] Indexed 10 Images on Page 1.\n",
            "\n",
            "===============================================\n",
            "\n",
            "[%] Downloading Image #1 from http://images.solecollector.com/complex/image/upload/t_in_content_image/addict-lacoste-tennis-sneakers-03_o4o3mj.jpg\n",
            "[%] File Downloaded !\n",
            "\n",
            "[%] Downloading Image #2 from https://www.youthwork-practice.com/games/game-pictures/Summer-Olympic-Discipline-Ball-throwing.jpg\n",
            "[%] File Downloaded !\n",
            "\n",
            "[%] Downloading Image #3 from http://www.monroenews.com/storyimage/MI/20160505/NEWS/160509443/AR/0/AR-160509443.jpg\n",
            "[%] File Downloaded !\n",
            "\n",
            "[%] Downloading Image #4 from https://i.ytimg.com/vi/bFI6hGRa-hg/hqdefault.jpg\n",
            "[%] File Downloaded !\n",
            "\n",
            "[%] Downloading Image #5 from https://vancouver.ca/images/cov/feature/pickleball-court-landing.jpg\n",
            "[%] File Downloaded !\n",
            "\n",
            "[%] Downloading Image #6 from https://www.slashgear.com/wp-content/uploads/2018/07/Bowser-Jr-Mario-Tennis.jpg\n",
            "[%] File Downloaded !\n",
            "\n",
            "[%] Downloading Image #7 from https://cms.qz.com/wp-content/uploads/2019/12/RTS2OSNV-e1576611720944.jpg?quality=75&amp;strip=all&amp;w=1400\n",
            "[%] File Downloaded !\n",
            "\n",
            "[%] Downloading Image #8 from http://en.chateauversailles.fr/sites/default/files/styles/reseaux_sociaux/public/visuels_principaux/evenements/visu-princ.jpg?itok=e0d16mOZ\n",
            "[%] File Downloaded !\n",
            "\n",
            "[%] Downloading Image #9 from http://www2.mes-coloriages-preferes.biz/colorino/Images/Large/Personnages-celebres-Mangas-Dragon-Ball-Son-Goku-71258.png\n",
            "[%] File Downloaded !\n",
            "\n",
            "[%] Downloading Image #10 from http://usep42.fr/IMG/jpg/40x60_Mouton_BD.jpg\n",
            "[%] File Downloaded !\n",
            "\n",
            "\n",
            "\n",
            "[!!]Indexing page: 2\n",
            "\n",
            "[%] Indexed 11 Images on Page 2.\n",
            "\n",
            "===============================================\n",
            "\n",
            "[%] Downloading Image #11 from https://wallpapers.org.es/wp-content/uploads/2013/11/pelota-y-raqueta-de-tenis.jpg\n",
            "[%] File Downloaded !\n",
            "\n",
            "[%] Downloading Image #12 from http://l.yimg.com/uu/api/res/1.2/ZyjZP2fyuP_XPGRQya7iRw--/aD04OTA7dz02MzA7c209MTthcHBpZD15dGFjaHlvbg--/http://media.zenfs.com/en/blogs/sptusnbaexperts/Heres-Michael-Jordan-dunking-in-2013.-Photo-via-@MJFlightSchool.jpg\n",
            "[%] File Downloaded !\n",
            "\n",
            "[%] Downloading Image #13 from http://games.torrentsnack.com/wp-content/uploads/2012/11/Virtua-Tennis-4-PS-Vita.jpg\n",
            "[%] File Downloaded !\n",
            "\n",
            "[%] Downloading Image #14 from http://bestanimations.com/Balls&amp;Buttons/amazing-3d-computer-ball-sphere-art-animated-gif-6.gif\n",
            "[!] Issue getting: http://bestanimations.com/Balls&amp;Buttons/amazing-3d-computer-ball-sphere-art-animated-gif-6.gif\n",
            "[!] Error:: HTTP Error 400: Bad Request\n",
            "[%] Downloading Image #14 from https://www.bing.com/th/id/OGC.0591c7d9ed972c451f02e9d52199f1d6?pid=1.7&amp;rurl=http%3a%2f%2fbestanimations.com%2fBalls%26Buttons%2famazing-3d-computer-ball-sphere-art-animated-gif-6.gif&amp;ehk=DRt595x5emkj9fumSNOynBSAHzGBZYM2S%2ftN99Kf8ag%3d\n",
            "[!] Issue getting: https://www.bing.com/th/id/OGC.0591c7d9ed972c451f02e9d52199f1d6?pid=1.7&amp;rurl=http%3a%2f%2fbestanimations.com%2fBalls%26Buttons%2famazing-3d-computer-ball-sphere-art-animated-gif-6.gif&amp;ehk=DRt595x5emkj9fumSNOynBSAHzGBZYM2S%2ftN99Kf8ag%3d\n",
            "[!] Error:: HTTP Error 404: Not Found\n",
            "[%] Downloading Image #14 from https://arboretum.blog.gustavus.edu/files/2013/03/IMG_1627.jpg\n",
            "[%] File Downloaded !\n",
            "\n",
            "[%] Downloading Image #15 from http://www.webuypinball.com/wp-content/uploads/2015/02/Playfield-of-Fireball-2-pinball-machine-for-sale-in-Granite-Falls-e1423430258323.jpg\n",
            "[%] File Downloaded !\n",
            "\n",
            "[%] Downloading Image #16 from https://cdn.lolwot.com/wp-content/uploads/2015/04/20-adorable-photos-of-dogs-being-best-friends-1.jpg\n",
            "[%] File Downloaded !\n",
            "\n",
            "[%] Downloading Image #17 from https://www.feralinteractive.com/data/games/superstarstennis/images/players/large/nights.jpg\n",
            "[%] File Downloaded !\n",
            "\n",
            "[%] Downloading Image #18 from http://image.trsports.com.au/images/ebayimage/products/BilliardRules/600mmx425mm.jpg\n",
            "[%] File Downloaded !\n",
            "\n",
            "[%] Downloading Image #19 from https://vz.cnwimg.com/wp-content/uploads/2010/03/Steve-Stevens.jpg\n",
            "[%] File Downloaded !\n",
            "\n",
            "\n",
            "\n",
            "[!!]Indexing page: 3\n",
            "\n",
            "[%] Indexed 9 Images on Page 3.\n",
            "\n",
            "===============================================\n",
            "\n",
            "[%] Downloading Image #20 from https://www.youthwork-practice.com/games/game-pictures/Summer-Olympic-Discipline-Ball-throwing.jpg\n",
            "[%] File Downloaded !\n",
            "\n",
            "[%] Downloading Image #21 from http://www.monroenews.com/storyimage/MI/20160505/NEWS/160509443/AR/0/AR-160509443.jpg\n",
            "[%] File Downloaded !\n",
            "\n",
            "[%] Downloading Image #22 from https://i.ytimg.com/vi/bFI6hGRa-hg/hqdefault.jpg\n",
            "[%] File Downloaded !\n",
            "\n",
            "[%] Downloading Image #23 from https://vancouver.ca/images/cov/feature/pickleball-court-landing.jpg\n",
            "[%] File Downloaded !\n",
            "\n",
            "[%] Downloading Image #24 from https://www.slashgear.com/wp-content/uploads/2018/07/Bowser-Jr-Mario-Tennis.jpg\n",
            "[%] File Downloaded !\n",
            "\n",
            "[%] Downloading Image #25 from https://cms.qz.com/wp-content/uploads/2019/12/RTS2OSNV-e1576611720944.jpg?quality=75&amp;strip=all&amp;w=1400\n",
            "[%] File Downloaded !\n",
            "\n",
            "[%] Downloading Image #26 from http://en.chateauversailles.fr/sites/default/files/styles/reseaux_sociaux/public/visuels_principaux/evenements/visu-princ.jpg?itok=e0d16mOZ\n",
            "[%] File Downloaded !\n",
            "\n",
            "[%] Downloading Image #27 from http://www2.mes-coloriages-preferes.biz/colorino/Images/Large/Personnages-celebres-Mangas-Dragon-Ball-Son-Goku-71258.png\n",
            "[%] File Downloaded !\n",
            "\n",
            "[%] Downloading Image #28 from http://usep42.fr/IMG/jpg/40x60_Mouton_BD.jpg\n",
            "[%] File Downloaded !\n",
            "\n",
            "\n",
            "\n",
            "[!!]Indexing page: 4\n",
            "\n",
            "[%] Indexed 8 Images on Page 4.\n",
            "\n",
            "===============================================\n",
            "\n",
            "[%] Downloading Image #29 from http://www.monroenews.com/storyimage/MI/20160505/NEWS/160509443/AR/0/AR-160509443.jpg\n",
            "[%] File Downloaded !\n",
            "\n",
            "[%] Downloading Image #30 from https://i.ytimg.com/vi/bFI6hGRa-hg/hqdefault.jpg\n",
            "[%] File Downloaded !\n",
            "\n",
            "\n",
            "\n",
            "[%] Done. Downloaded 30 images.\n",
            "\n",
            "===============================================\n",
            "\n"
          ],
          "name": "stdout"
        }
      ]
    },
    {
      "cell_type": "code",
      "metadata": {
        "colab": {
          "base_uri": "https://localhost:8080/"
        },
        "id": "4SCEzdWJY8sh",
        "outputId": "af34d54a-5bbb-4660-cba4-b585e55cfe21"
      },
      "source": [
        "downloader.download(\"Flag\",limit=30,output_dir=\"images\",adult_filter_off = True)"
      ],
      "execution_count": null,
      "outputs": [
        {
          "output_type": "stream",
          "text": [
            "\n",
            "\n",
            "[!!]Indexing page: 1\n",
            "\n",
            "[%] Indexed 11 Images on Page 1.\n",
            "\n",
            "===============================================\n",
            "\n",
            "[%] Downloading Image #1 from http://bestanimations.com/HomeOffice/paris-city-animated-gif-7.gif\n",
            "[%] File Downloaded !\n",
            "\n",
            "[%] Downloading Image #2 from https://www.bing.com/th/id/OGC.e9a9c37610599acfd5eabb78c4babcb8?pid=1.7&amp;rurl=http%3a%2f%2fbestanimations.com%2fHomeOffice%2fparis-city-animated-gif-7.gif&amp;ehk=SQmQg22e09kWAWZMaZhSeXfb%2bBWXmwLFNZOr%2bcyy5Tg%3d\n",
            "[!] Issue getting: https://www.bing.com/th/id/OGC.e9a9c37610599acfd5eabb78c4babcb8?pid=1.7&amp;rurl=http%3a%2f%2fbestanimations.com%2fHomeOffice%2fparis-city-animated-gif-7.gif&amp;ehk=SQmQg22e09kWAWZMaZhSeXfb%2bBWXmwLFNZOr%2bcyy5Tg%3d\n",
            "[!] Error:: HTTP Error 404: Not Found\n",
            "[%] Downloading Image #2 from https://yesofcorsa.com/wp-content/uploads/2017/10/4K-American-Flag-Wallpaper-For-IPhone.jpg\n",
            "[%] File Downloaded !\n",
            "\n",
            "[%] Downloading Image #3 from https://www.warrelics.eu/forum/attachments/flags-banners-pennants/1043446d1486039904t-signed-nazi-flag-up-60-question-16468637_334714170257922_573787552_n.jpg\n",
            "[%] File Downloaded !\n",
            "\n",
            "[%] Downloading Image #4 from https://wordss.cc/wp-content/uploads/2019/08/4199-3.jpg\n",
            "[%] File Downloaded !\n",
            "\n",
            "[%] Downloading Image #5 from https://biaswrecker.com/wp-content/uploads/2020/06/2a02c03feaceab4462d9aca2f1c02745.jpg\n",
            "[Error]Invalid image, not saving https://biaswrecker.com/wp-content/uploads/2020/06/2a02c03feaceab4462d9aca2f1c02745.jpg\n",
            "\n",
            "[!] Issue getting: https://biaswrecker.com/wp-content/uploads/2020/06/2a02c03feaceab4462d9aca2f1c02745.jpg\n",
            "[!] Error:: No active exception to reraise\n",
            "[%] Downloading Image #5 from http://whale.to/c/10155946_846441205371598_1495612020_n.jpg\n",
            "[%] File Downloaded !\n",
            "\n",
            "[%] Downloading Image #6 from https://thegraphicsfairy.com/wp-content/uploads/2014/06/Vintage-Daffodil-Picture-GraphicsFairy-543x1024.jpg\n",
            "[%] File Downloaded !\n",
            "\n",
            "[%] Downloading Image #7 from https://www.warrelics.eu/forum/attachments/flags-banners-pennants/1094171d1500459370t-ww2-german-flag-standarte-city-munster-christian-flag-1.jpg\n",
            "[%] File Downloaded !\n",
            "\n",
            "[%] Downloading Image #8 from https://s1.thcdn.com/productimg/0/960/960/54/10870154-1383756503-536743.jpg\n",
            "[%] File Downloaded !\n",
            "\n",
            "[%] Downloading Image #9 from http://cdn.shopify.com/s/files/1/0822/1983/articles/flag-of-pakistan-pixel-art-pixel-art-pakistan-flag-of-pakistan-islamic-republic-of-pakistan-south-asia-pakistani-pixel-8bit.png?v=1501206200\n",
            "[%] File Downloaded !\n",
            "\n",
            "\n",
            "\n",
            "[!!]Indexing page: 2\n",
            "\n",
            "[%] Indexed 11 Images on Page 2.\n",
            "\n",
            "===============================================\n",
            "\n",
            "[%] Downloading Image #10 from http://bestanimations.com/HomeOffice/paris-city-animated-gif-7.gif\n",
            "[%] File Downloaded !\n",
            "\n",
            "[%] Downloading Image #11 from https://www.bing.com/th/id/OGC.e9a9c37610599acfd5eabb78c4babcb8?pid=1.7&amp;rurl=http%3a%2f%2fbestanimations.com%2fHomeOffice%2fparis-city-animated-gif-7.gif&amp;ehk=SQmQg22e09kWAWZMaZhSeXfb%2bBWXmwLFNZOr%2bcyy5Tg%3d\n",
            "[!] Issue getting: https://www.bing.com/th/id/OGC.e9a9c37610599acfd5eabb78c4babcb8?pid=1.7&amp;rurl=http%3a%2f%2fbestanimations.com%2fHomeOffice%2fparis-city-animated-gif-7.gif&amp;ehk=SQmQg22e09kWAWZMaZhSeXfb%2bBWXmwLFNZOr%2bcyy5Tg%3d\n",
            "[!] Error:: HTTP Error 404: Not Found\n",
            "[%] Downloading Image #11 from https://yesofcorsa.com/wp-content/uploads/2017/10/4K-American-Flag-Wallpaper-For-IPhone.jpg\n",
            "[%] File Downloaded !\n",
            "\n",
            "[%] Downloading Image #12 from https://www.warrelics.eu/forum/attachments/flags-banners-pennants/1043446d1486039904t-signed-nazi-flag-up-60-question-16468637_334714170257922_573787552_n.jpg\n",
            "[%] File Downloaded !\n",
            "\n",
            "[%] Downloading Image #13 from https://wordss.cc/wp-content/uploads/2019/08/4199-3.jpg\n",
            "[%] File Downloaded !\n",
            "\n",
            "[%] Downloading Image #14 from https://biaswrecker.com/wp-content/uploads/2020/06/2a02c03feaceab4462d9aca2f1c02745.jpg\n",
            "[Error]Invalid image, not saving https://biaswrecker.com/wp-content/uploads/2020/06/2a02c03feaceab4462d9aca2f1c02745.jpg\n",
            "\n",
            "[!] Issue getting: https://biaswrecker.com/wp-content/uploads/2020/06/2a02c03feaceab4462d9aca2f1c02745.jpg\n",
            "[!] Error:: No active exception to reraise\n",
            "[%] Downloading Image #14 from http://whale.to/c/10155946_846441205371598_1495612020_n.jpg\n",
            "[%] File Downloaded !\n",
            "\n",
            "[%] Downloading Image #15 from https://thegraphicsfairy.com/wp-content/uploads/2014/06/Vintage-Daffodil-Picture-GraphicsFairy-543x1024.jpg\n",
            "[%] File Downloaded !\n",
            "\n",
            "[%] Downloading Image #16 from https://www.warrelics.eu/forum/attachments/flags-banners-pennants/1094171d1500459370t-ww2-german-flag-standarte-city-munster-christian-flag-1.jpg\n",
            "[%] File Downloaded !\n",
            "\n",
            "[%] Downloading Image #17 from https://s1.thcdn.com/productimg/0/960/960/54/10870154-1383756503-536743.jpg\n",
            "[%] File Downloaded !\n",
            "\n",
            "[%] Downloading Image #18 from http://cdn.shopify.com/s/files/1/0822/1983/articles/flag-of-pakistan-pixel-art-pixel-art-pakistan-flag-of-pakistan-islamic-republic-of-pakistan-south-asia-pakistani-pixel-8bit.png?v=1501206200\n",
            "[%] File Downloaded !\n",
            "\n",
            "\n",
            "\n",
            "[!!]Indexing page: 3\n",
            "\n",
            "[%] Indexed 9 Images on Page 3.\n",
            "\n",
            "===============================================\n",
            "\n",
            "[%] Downloading Image #19 from https://yesofcorsa.com/wp-content/uploads/2017/10/4K-American-Flag-Wallpaper-For-IPhone.jpg\n",
            "[%] File Downloaded !\n",
            "\n",
            "[%] Downloading Image #20 from https://www.warrelics.eu/forum/attachments/flags-banners-pennants/1094171d1500459370t-ww2-german-flag-standarte-city-munster-christian-flag-1.jpg\n",
            "[%] File Downloaded !\n",
            "\n",
            "[%] Downloading Image #21 from https://wordss.cc/wp-content/uploads/2019/08/4199-3.jpg\n",
            "[%] File Downloaded !\n",
            "\n",
            "[%] Downloading Image #22 from https://thegraphicsfairy.com/wp-content/uploads/2014/06/Vintage-Daffodil-Picture-GraphicsFairy-543x1024.jpg\n",
            "[%] File Downloaded !\n",
            "\n",
            "[%] Downloading Image #23 from http://whale.to/c/10155946_846441205371598_1495612020_n.jpg\n",
            "[%] File Downloaded !\n",
            "\n",
            "[%] Downloading Image #24 from https://s1.thcdn.com/productimg/0/960/960/54/10870154-1383756503-536743.jpg\n",
            "[%] File Downloaded !\n",
            "\n",
            "[%] Downloading Image #25 from https://www.warrelics.eu/forum/attachments/flags-banners-pennants/1043446d1486039904t-signed-nazi-flag-up-60-question-16468637_334714170257922_573787552_n.jpg\n",
            "[%] File Downloaded !\n",
            "\n",
            "[%] Downloading Image #26 from https://biaswrecker.com/wp-content/uploads/2020/06/2a02c03feaceab4462d9aca2f1c02745.jpg\n",
            "[Error]Invalid image, not saving https://biaswrecker.com/wp-content/uploads/2020/06/2a02c03feaceab4462d9aca2f1c02745.jpg\n",
            "\n",
            "[!] Issue getting: https://biaswrecker.com/wp-content/uploads/2020/06/2a02c03feaceab4462d9aca2f1c02745.jpg\n",
            "[!] Error:: No active exception to reraise\n",
            "[%] Downloading Image #26 from http://cdn.shopify.com/s/files/1/0822/1983/articles/flag-of-pakistan-pixel-art-pixel-art-pakistan-flag-of-pakistan-islamic-republic-of-pakistan-south-asia-pakistani-pixel-8bit.png?v=1501206200\n",
            "[%] File Downloaded !\n",
            "\n",
            "\n",
            "\n",
            "[!!]Indexing page: 4\n",
            "\n",
            "[%] Indexed 8 Images on Page 4.\n",
            "\n",
            "===============================================\n",
            "\n",
            "[%] Downloading Image #27 from https://www.minnesotawildflowers.info/udata/r9ndp23q/green/acorus-americanus-sweet-flag_0627_160830.jpg\n",
            "[%] File Downloaded !\n",
            "\n",
            "[%] Downloading Image #28 from http://www.toledoblade.com/image/2013/01/19/Gun-Rallies-Utah.JPG\n",
            "[%] File Downloaded !\n",
            "\n",
            "[%] Downloading Image #29 from http://xahlee.org/Periodic_dosage_dir/lanci/i/ww/rinju/Wonder_Woman_sen32p9.jpg\n",
            "[Error]Invalid image, not saving http://xahlee.org/Periodic_dosage_dir/lanci/i/ww/rinju/Wonder_Woman_sen32p9.jpg\n",
            "\n",
            "[!] Issue getting: http://xahlee.org/Periodic_dosage_dir/lanci/i/ww/rinju/Wonder_Woman_sen32p9.jpg\n",
            "[!] Error:: No active exception to reraise\n",
            "[%] Downloading Image #29 from https://weneedfun.com/wp-content/uploads/2016/06/african-grey-parrot-picture-5-623x1024.jpg\n",
            "[%] File Downloaded !\n",
            "\n",
            "[%] Downloading Image #30 from https://images.coplusk.net/project_images/139436/image/full_DSC01633white.jpg\n",
            "[%] File Downloaded !\n",
            "\n",
            "\n",
            "\n",
            "[%] Done. Downloaded 30 images.\n",
            "\n",
            "===============================================\n",
            "\n"
          ],
          "name": "stdout"
        }
      ]
    },
    {
      "cell_type": "code",
      "metadata": {
        "id": "tk7pVgOIZDJU"
      },
      "source": [
        "import os\n",
        "import matplotlib.pyplot as plt\n",
        "import numpy as np\n",
        "from skimage.io import imread\n",
        "from skimage.transform import resize\n",
        "\n",
        "target = []\n",
        "images = []\n",
        "flat_data = []\n",
        "\n",
        "DATADIR = '/content/images'\n",
        "CATEGORIES = ['roses','tennis ball','Flag']\n",
        "\n",
        "for category in CATEGORIES:\n",
        "  class_num = CATEGORIES.index(category)\n",
        "  path = os.path.join(DATADIR,category)\n",
        "  for img in os.listdir(path):\n",
        "    img_array = imread(os.path.join(path,img))\n",
        "    #plt.imshow(img_array)\n",
        "    img_resized = resize(img_array,(150,150,3))\n",
        "    flat_data.append(img_resized.flatten())\n",
        "    images.append(img_resized)\n",
        "    target.append(class_num)\n",
        "\n",
        "flat_data = np.array(flat_data)\n",
        "target = np.array(target)\n",
        "images = np.array(images)"
      ],
      "execution_count": null,
      "outputs": []
    },
    {
      "cell_type": "code",
      "metadata": {
        "id": "g9ZNRQ7ZZJic"
      },
      "source": [
        "from sklearn.model_selection import train_test_split\n",
        "x_train,x_test,y_train,y_test = train_test_split(flat_data,target,test_size=0.3,random_state=109)"
      ],
      "execution_count": null,
      "outputs": []
    },
    {
      "cell_type": "code",
      "metadata": {
        "colab": {
          "base_uri": "https://localhost:8080/"
        },
        "id": "BoZBNDNhZX_R",
        "outputId": "de2bf7a4-debb-4cc9-81c0-fd9e901709af"
      },
      "source": [
        "from sklearn.model_selection import GridSearchCV\n",
        "from sklearn import svm\n",
        "param_grid = [\n",
        "              \n",
        "              {'C':[1,10,100,1000],'kernel':['linear']},\n",
        "              {'C':[1,10,100,1000],'gamma':[0.001,0.0001],'kernel':['rbf']},\n",
        "]\n",
        "\n",
        "svc = svm.SVC(probability= True)\n",
        "clf = GridSearchCV(svc,param_grid)\n",
        "clf.fit(x_train,y_train)"
      ],
      "execution_count": null,
      "outputs": [
        {
          "output_type": "execute_result",
          "data": {
            "text/plain": [
              "GridSearchCV(cv=None, error_score=nan,\n",
              "             estimator=SVC(C=1.0, break_ties=False, cache_size=200,\n",
              "                           class_weight=None, coef0=0.0,\n",
              "                           decision_function_shape='ovr', degree=3,\n",
              "                           gamma='scale', kernel='rbf', max_iter=-1,\n",
              "                           probability=True, random_state=None, shrinking=True,\n",
              "                           tol=0.001, verbose=False),\n",
              "             iid='deprecated', n_jobs=None,\n",
              "             param_grid=[{'C': [1, 10, 100, 1000], 'kernel': ['linear']},\n",
              "                         {'C': [1, 10, 100, 1000], 'gamma': [0.001, 0.0001],\n",
              "                          'kernel': ['rbf']}],\n",
              "             pre_dispatch='2*n_jobs', refit=True, return_train_score=False,\n",
              "             scoring=None, verbose=0)"
            ]
          },
          "metadata": {
            "tags": []
          },
          "execution_count": 28
        }
      ]
    },
    {
      "cell_type": "code",
      "metadata": {
        "id": "vdevLgNwZcMp"
      },
      "source": [
        "import pickle\n",
        "pickle.dump(clf,open('img_model.p','wb'))"
      ],
      "execution_count": null,
      "outputs": []
    },
    {
      "cell_type": "code",
      "metadata": {
        "id": "ChmZLROZaGiC"
      },
      "source": [
        "model = pickle.load(open('img_model.p','rb'))"
      ],
      "execution_count": null,
      "outputs": []
    },
    {
      "cell_type": "code",
      "metadata": {
        "colab": {
          "base_uri": "https://localhost:8080/",
          "height": 340
        },
        "id": "JKqMuwwEaKR3",
        "outputId": "e588f789-875e-49dc-9c91-318a1091e16c"
      },
      "source": [
        "flat_data = []\n",
        "url = input('Enter your URL')\n",
        "img = imread(url)\n",
        "img_resized = resize(img,(150,150,3))\n",
        "flat_data.append(img_resized.flatten())\n",
        "flat_data = np.array(flat_data)\n",
        "print(img.shape)\n",
        "plt.imshow(img_resized)\n",
        "y_out = model.predict(flat_data)\n",
        "y_out = CATEGORIES[y_out[0]]\n",
        "print(f' PREDICTED OUTPUT: {y_out}')"
      ],
      "execution_count": null,
      "outputs": [
        {
          "output_type": "stream",
          "text": [
            "Enter your URLhttps://th.bing.com/th/id/Rd8be553315e1d9bd2b130507db830078?rik=vXgyebvRPtqdUw&riu=http%3a%2f%2fwww.pngpix.com%2fwp-content%2fuploads%2f2016%2f10%2fPNGPIX-COM-Tennis-Ball-PNG-Transparent-Image-1.png&ehk=V%2flnXdeAqZDDug51b1iRghyEaazky7QQj%2f2NjO5dwrQ%3d&risl=&pid=ImgRaw\n",
            "(1378, 1378, 4)\n",
            " PREDICTED OUTPUT: tennis ball\n"
          ],
          "name": "stdout"
        },
        {
          "output_type": "display_data",
          "data": {
            "image/png": "[encoded data removed]",
            "text/plain": [
              "<Figure size 432x288 with 1 Axes>"
            ]
          },
          "metadata": {
            "tags": [],
            "needs_background": "light"
          }
        }
      ]
    },
    {
      "cell_type": "code",
      "metadata": {
        "colab": {
          "base_uri": "https://localhost:8080/"
        },
        "id": "2LBtFiWlaNwE",
        "outputId": "117c705f-f7bb-4cb0-e367-3490fdce0ee5"
      },
      "source": [
        "!pip install streamlit\n",
        "\n",
        "!pip install pyngrok==4.1.1\n",
        "from pyngrok import ngrok"
      ],
      "execution_count": null,
      "outputs": [
        {
          "output_type": "stream",
          "text": [
            "Requirement already satisfied: streamlit in /usr/local/lib/python3.7/dist-packages (0.82.0)\n",
            "Requirement already satisfied: blinker in /usr/local/lib/python3.7/dist-packages (from streamlit) (1.4)\n",
            "Requirement already satisfied: pyarrow; python_version < \"3.9\" in /usr/local/lib/python3.7/dist-packages (from streamlit) (3.0.0)\n",
            "Requirement already satisfied: astor in /usr/local/lib/python3.7/dist-packages (from streamlit) (0.8.1)\n",
            "Requirement already satisfied: python-dateutil in /usr/local/lib/python3.7/dist-packages (from streamlit) (2.8.1)\n",
            "Requirement already satisfied: protobuf!=3.11,>=3.6.0 in /usr/local/lib/python3.7/dist-packages (from streamlit) (3.12.4)\n",
            "Requirement already satisfied: pandas>=0.21.0 in /usr/local/lib/python3.7/dist-packages (from streamlit) (1.1.5)\n",
            "Requirement already satisfied: tzlocal in /usr/local/lib/python3.7/dist-packages (from streamlit) (1.5.1)\n",
            "Requirement already satisfied: base58 in /usr/local/lib/python3.7/dist-packages (from streamlit) (2.1.0)\n",
            "Requirement already satisfied: click<8.0,>=7.0 in /usr/local/lib/python3.7/dist-packages (from streamlit) (7.1.2)\n",
            "Requirement already satisfied: cachetools>=4.0 in /usr/local/lib/python3.7/dist-packages (from streamlit) (4.2.2)\n",
            "Requirement already satisfied: requests in /usr/local/lib/python3.7/dist-packages (from streamlit) (2.23.0)\n",
            "Requirement already satisfied: toml in /usr/local/lib/python3.7/dist-packages (from streamlit) (0.10.2)\n",
            "Requirement already satisfied: pydeck>=0.1.dev5 in /usr/local/lib/python3.7/dist-packages (from streamlit) (0.6.2)\n",
            "Requirement already satisfied: numpy in /usr/local/lib/python3.7/dist-packages (from streamlit) (1.19.5)\n",
            "Requirement already satisfied: gitpython in /usr/local/lib/python3.7/dist-packages (from streamlit) (3.1.17)\n",
            "Requirement already satisfied: watchdog; platform_system != \"Darwin\" in /usr/local/lib/python3.7/dist-packages (from streamlit) (2.1.2)\n",
            "Requirement already satisfied: validators in /usr/local/lib/python3.7/dist-packages (from streamlit) (0.18.2)\n",
            "Requirement already satisfied: tornado>=5.0 in /usr/local/lib/python3.7/dist-packages (from streamlit) (5.1.1)\n",
            "Requirement already satisfied: packaging in /usr/local/lib/python3.7/dist-packages (from streamlit) (20.9)\n",
            "Requirement already satisfied: pillow>=6.2.0 in /usr/local/lib/python3.7/dist-packages (from streamlit) (7.1.2)\n",
            "Requirement already satisfied: altair>=3.2.0 in /usr/local/lib/python3.7/dist-packages (from streamlit) (4.1.0)\n",
            "Requirement already satisfied: six>=1.5 in /usr/local/lib/python3.7/dist-packages (from python-dateutil->streamlit) (1.15.0)\n",
            "Requirement already satisfied: setuptools in /usr/local/lib/python3.7/dist-packages (from protobuf!=3.11,>=3.6.0->streamlit) (56.1.0)\n",
            "Requirement already satisfied: pytz>=2017.2 in /usr/local/lib/python3.7/dist-packages (from pandas>=0.21.0->streamlit) (2018.9)\n",
            "Requirement already satisfied: urllib3!=1.25.0,!=1.25.1,<1.26,>=1.21.1 in /usr/local/lib/python3.7/dist-packages (from requests->streamlit) (1.24.3)\n",
            "Requirement already satisfied: certifi>=2017.4.17 in /usr/local/lib/python3.7/dist-packages (from requests->streamlit) (2020.12.5)\n",
            "Requirement already satisfied: idna<3,>=2.5 in /usr/local/lib/python3.7/dist-packages (from requests->streamlit) (2.10)\n",
            "Requirement already satisfied: chardet<4,>=3.0.2 in /usr/local/lib/python3.7/dist-packages (from requests->streamlit) (3.0.4)\n",
            "Requirement already satisfied: jinja2>=2.10.1 in /usr/local/lib/python3.7/dist-packages (from pydeck>=0.1.dev5->streamlit) (2.11.3)\n",
            "Requirement already satisfied: ipykernel>=5.1.2; python_version >= \"3.4\" in /usr/local/lib/python3.7/dist-packages (from pydeck>=0.1.dev5->streamlit) (5.5.5)\n",
            "Requirement already satisfied: ipywidgets>=7.0.0 in /usr/local/lib/python3.7/dist-packages (from pydeck>=0.1.dev5->streamlit) (7.6.3)\n",
            "Requirement already satisfied: traitlets>=4.3.2 in /usr/local/lib/python3.7/dist-packages (from pydeck>=0.1.dev5->streamlit) (5.0.5)\n",
            "Requirement already satisfied: gitdb<5,>=4.0.1 in /usr/local/lib/python3.7/dist-packages (from gitpython->streamlit) (4.0.7)\n",
            "Requirement already satisfied: typing-extensions>=3.7.4.0; python_version < \"3.8\" in /usr/local/lib/python3.7/dist-packages (from gitpython->streamlit) (3.7.4.3)\n",
            "Requirement already satisfied: decorator>=3.4.0 in /usr/local/lib/python3.7/dist-packages (from validators->streamlit) (4.4.2)\n",
            "Requirement already satisfied: pyparsing>=2.0.2 in /usr/local/lib/python3.7/dist-packages (from packaging->streamlit) (2.4.7)\n",
            "Requirement already satisfied: jsonschema in /usr/local/lib/python3.7/dist-packages (from altair>=3.2.0->streamlit) (2.6.0)\n",
            "Requirement already satisfied: toolz in /usr/local/lib/python3.7/dist-packages (from altair>=3.2.0->streamlit) (0.11.1)\n",
            "Requirement already satisfied: entrypoints in /usr/local/lib/python3.7/dist-packages (from altair>=3.2.0->streamlit) (0.3)\n",
            "Requirement already satisfied: MarkupSafe>=0.23 in /usr/local/lib/python3.7/dist-packages (from jinja2>=2.10.1->pydeck>=0.1.dev5->streamlit) (2.0.0)\n",
            "Requirement already satisfied: jupyter-client in /usr/local/lib/python3.7/dist-packages (from ipykernel>=5.1.2; python_version >= \"3.4\"->pydeck>=0.1.dev5->streamlit) (5.3.5)\n",
            "Requirement already satisfied: ipython>=5.0.0 in /usr/local/lib/python3.7/dist-packages (from ipykernel>=5.1.2; python_version >= \"3.4\"->pydeck>=0.1.dev5->streamlit) (5.5.0)\n",
            "Requirement already satisfied: nbformat>=4.2.0 in /usr/local/lib/python3.7/dist-packages (from ipywidgets>=7.0.0->pydeck>=0.1.dev5->streamlit) (5.1.3)\n",
            "Requirement already satisfied: jupyterlab-widgets>=1.0.0; python_version >= \"3.6\" in /usr/local/lib/python3.7/dist-packages (from ipywidgets>=7.0.0->pydeck>=0.1.dev5->streamlit) (1.0.0)\n",
            "Requirement already satisfied: widgetsnbextension~=3.5.0 in /usr/local/lib/python3.7/dist-packages (from ipywidgets>=7.0.0->pydeck>=0.1.dev5->streamlit) (3.5.1)\n",
            "Requirement already satisfied: ipython-genutils in /usr/local/lib/python3.7/dist-packages (from traitlets>=4.3.2->pydeck>=0.1.dev5->streamlit) (0.2.0)\n",
            "Requirement already satisfied: smmap<5,>=3.0.1 in /usr/local/lib/python3.7/dist-packages (from gitdb<5,>=4.0.1->gitpython->streamlit) (4.0.0)\n",
            "Requirement already satisfied: jupyter-core>=4.6.0 in /usr/local/lib/python3.7/dist-packages (from jupyter-client->ipykernel>=5.1.2; python_version >= \"3.4\"->pydeck>=0.1.dev5->streamlit) (4.7.1)\n",
            "Requirement already satisfied: pyzmq>=13 in /usr/local/lib/python3.7/dist-packages (from jupyter-client->ipykernel>=5.1.2; python_version >= \"3.4\"->pydeck>=0.1.dev5->streamlit) (22.0.3)\n",
            "Requirement already satisfied: pickleshare in /usr/local/lib/python3.7/dist-packages (from ipython>=5.0.0->ipykernel>=5.1.2; python_version >= \"3.4\"->pydeck>=0.1.dev5->streamlit) (0.7.5)\n",
            "Requirement already satisfied: pygments in /usr/local/lib/python3.7/dist-packages (from ipython>=5.0.0->ipykernel>=5.1.2; python_version >= \"3.4\"->pydeck>=0.1.dev5->streamlit) (2.6.1)\n",
            "Requirement already satisfied: simplegeneric>0.8 in /usr/local/lib/python3.7/dist-packages (from ipython>=5.0.0->ipykernel>=5.1.2; python_version >= \"3.4\"->pydeck>=0.1.dev5->streamlit) (0.8.1)\n",
            "Requirement already satisfied: prompt-toolkit<2.0.0,>=1.0.4 in /usr/local/lib/python3.7/dist-packages (from ipython>=5.0.0->ipykernel>=5.1.2; python_version >= \"3.4\"->pydeck>=0.1.dev5->streamlit) (1.0.18)\n",
            "Requirement already satisfied: pexpect; sys_platform != \"win32\" in /usr/local/lib/python3.7/dist-packages (from ipython>=5.0.0->ipykernel>=5.1.2; python_version >= \"3.4\"->pydeck>=0.1.dev5->streamlit) (4.8.0)\n",
            "Requirement already satisfied: notebook>=4.4.1 in /usr/local/lib/python3.7/dist-packages (from widgetsnbextension~=3.5.0->ipywidgets>=7.0.0->pydeck>=0.1.dev5->streamlit) (5.3.1)\n",
            "Requirement already satisfied: wcwidth in /usr/local/lib/python3.7/dist-packages (from prompt-toolkit<2.0.0,>=1.0.4->ipython>=5.0.0->ipykernel>=5.1.2; python_version >= \"3.4\"->pydeck>=0.1.dev5->streamlit) (0.2.5)\n",
            "Requirement already satisfied: ptyprocess>=0.5 in /usr/local/lib/python3.7/dist-packages (from pexpect; sys_platform != \"win32\"->ipython>=5.0.0->ipykernel>=5.1.2; python_version >= \"3.4\"->pydeck>=0.1.dev5->streamlit) (0.7.0)\n",
            "Requirement already satisfied: Send2Trash in /usr/local/lib/python3.7/dist-packages (from notebook>=4.4.1->widgetsnbextension~=3.5.0->ipywidgets>=7.0.0->pydeck>=0.1.dev5->streamlit) (1.5.0)\n",
            "Requirement already satisfied: terminado>=0.8.1 in /usr/local/lib/python3.7/dist-packages (from notebook>=4.4.1->widgetsnbextension~=3.5.0->ipywidgets>=7.0.0->pydeck>=0.1.dev5->streamlit) (0.9.5)\n",
            "Requirement already satisfied: nbconvert in /usr/local/lib/python3.7/dist-packages (from notebook>=4.4.1->widgetsnbextension~=3.5.0->ipywidgets>=7.0.0->pydeck>=0.1.dev5->streamlit) (5.6.1)\n",
            "Requirement already satisfied: testpath in /usr/local/lib/python3.7/dist-packages (from nbconvert->notebook>=4.4.1->widgetsnbextension~=3.5.0->ipywidgets>=7.0.0->pydeck>=0.1.dev5->streamlit) (0.4.4)\n",
            "Requirement already satisfied: bleach in /usr/local/lib/python3.7/dist-packages (from nbconvert->notebook>=4.4.1->widgetsnbextension~=3.5.0->ipywidgets>=7.0.0->pydeck>=0.1.dev5->streamlit) (3.3.0)\n",
            "Requirement already satisfied: pandocfilters>=1.4.1 in /usr/local/lib/python3.7/dist-packages (from nbconvert->notebook>=4.4.1->widgetsnbextension~=3.5.0->ipywidgets>=7.0.0->pydeck>=0.1.dev5->streamlit) (1.4.3)\n",
            "Requirement already satisfied: defusedxml in /usr/local/lib/python3.7/dist-packages (from nbconvert->notebook>=4.4.1->widgetsnbextension~=3.5.0->ipywidgets>=7.0.0->pydeck>=0.1.dev5->streamlit) (0.7.1)\n",
            "Requirement already satisfied: mistune<2,>=0.8.1 in /usr/local/lib/python3.7/dist-packages (from nbconvert->notebook>=4.4.1->widgetsnbextension~=3.5.0->ipywidgets>=7.0.0->pydeck>=0.1.dev5->streamlit) (0.8.4)\n",
            "Requirement already satisfied: webencodings in /usr/local/lib/python3.7/dist-packages (from bleach->nbconvert->notebook>=4.4.1->widgetsnbextension~=3.5.0->ipywidgets>=7.0.0->pydeck>=0.1.dev5->streamlit) (0.5.1)\n",
            "Requirement already satisfied: pyngrok==4.1.1 in /usr/local/lib/python3.7/dist-packages (4.1.1)\n",
            "Requirement already satisfied: future in /usr/local/lib/python3.7/dist-packages (from pyngrok==4.1.1) (0.16.0)\n",
            "Requirement already satisfied: PyYAML in /usr/local/lib/python3.7/dist-packages (from pyngrok==4.1.1) (3.13)\n"
          ],
          "name": "stdout"
        }
      ]
    },
    {
      "cell_type": "code",
      "metadata": {
        "colab": {
          "base_uri": "https://localhost:8080/"
        },
        "id": "bfxl8hAhakfW",
        "outputId": "aab5e91f-53d6-44db-d9a7-816fb8af33a1"
      },
      "source": [
        "%%writefile app.py\n",
        "import streamlit as st\n",
        "import numpy as np\n",
        "from skimage.io import imread\n",
        "from skimage.transform import resize\n",
        "import pickle \n",
        "from PIL import Image\n",
        "st.set_option('deprecation.showfileUploaderEncoding', False)\n",
        "st.title('Image Classifier using Machine Learning')\n",
        "st.text('Upload the Image')\n",
        "\n",
        "model = pickle.load(open('img_model.p','rb'))\n",
        "\n",
        "uploaded_file = st.file_uploader(\"Choose an image...\", type=\"jpg\")\n",
        "if uploaded_file is not None:\n",
        "  img = Image.open(uploaded_file)\n",
        "  st.image(img,caption='Uploaded Image')\n",
        "\n",
        "  if st.button('PREDICT'):\n",
        "    CATEGORIES = ['roses','tennis ball','Flag']\n",
        "    st.write('Result...')\n",
        "    flat_data=[]\n",
        "    img = np.array(img)\n",
        "    img_resized = resize(img,(150,150,3))\n",
        "    flat_data.append(img_resized.flatten())\n",
        "    flat_data = np.array(flat_data)\n",
        "    y_out = model.predict(flat_data)\n",
        "    y_out = CATEGORIES[y_out[0]]\n",
        "    st.title(f' PREDICTED OUTPUT: {y_out}')\n",
        "    q = model.predict_proba(flat_data)\n",
        "    for index, item in enumerate(CATEGORIES):\n",
        "      st.write(f'{item} : {q[0][index]*100}%')"
      ],
      "execution_count": null,
      "outputs": [
        {
          "output_type": "stream",
          "text": [
            "Overwriting app.py\n"
          ],
          "name": "stdout"
        }
      ]
    },
    {
      "cell_type": "code",
      "metadata": {
        "colab": {
          "base_uri": "https://localhost:8080/",
          "height": 52
        },
        "id": "yevJuFPZa1ig",
        "outputId": "98710d0f-802c-4104-9089-21d37c6f4ea5"
      },
      "source": [
        "!nohup streamlit run app.py &\n",
        "\n",
        "url = ngrok.connect(port='8501')\n",
        "url"
      ],
      "execution_count": null,
      "outputs": [
        {
          "output_type": "stream",
          "text": [
            "nohup: appending output to 'nohup.out'\n"
          ],
          "name": "stdout"
        },
        {
          "output_type": "execute_result",
          "data": {
            "application/vnd.google.colaboratory.intrinsic+json": {
              "type": "string"
            },
            "text/plain": [
              "'http://cb8936a4dd1c.ngrok.io'"
            ]
          },
          "metadata": {
            "tags": []
          },
          "execution_count": 37
        }
      ]
    },
    {
      "cell_type": "code",
      "metadata": {
        "id": "N6TfdlC_a62x"
      },
      "source": [
        ""
      ],
      "execution_count": null,
      "outputs": []
    }
  ]
}